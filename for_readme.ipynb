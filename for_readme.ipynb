{
 "cells": [
  {
   "cell_type": "markdown",
   "id": "1536d029",
   "metadata": {},
   "source": [
    "<h1 align=\"center\">Electric Load Consumption Forecasting</h1>\n",
    "<img src=\"./images/web.jpg\" align=\"center\" width=\"100%\" />\n",
    "\n",
    "## About\n",
    "This is an undergrad project for `Power System Laboratory`\n",
    "\n",
    "## Important Links\n",
    " - `[Dataset](https://www.kaggle.com/datasets/nicholasjhana/energy-consumption-generation-prices-and-weathe)`\n",
    " -  `[Production Website to check](https://loadforecasting.vercel.app/)`\n",
    " - `[Report](https://github.com/alamgirakash2000/electric-load-consumption-forcasting/blob/main/EEE306_report-Group-04.pdf)\n",
    " - [Presentation Slide](https://github.com/alamgirakash2000/electric-load-consumption-forcasting/blob/main/Slide_EEE306_project.pptx)\n",
    " - [Notebook for selecting appropiate data and dataset](https://github.com/alamgirakash2000/electric-load-consumption-forcasting/blob/main/electrical-load-consumption.ipynb)\n",
    " - [Jypyter Notebook for the model](https://github.com/alamgirakash2000/electric-load-consumption-forcasting/blob/main/after-merging.ipynb)\n",
    "\n",
    "## Abstract\n",
    "Load forecasting is a critical tool for power companies to ensure that supply meets demand. It can be classified into three time horizons: short-term (a few hours), medium-term (a few weeks up to a year), and long-term (over a year).\n",
    "\n",
    "Load forecasting is important for power companies because it helps them to make better decisions about investment and planning. For example, if a power company knows that demand is going to increase in the future, they can invest in new power plants or transmission lines. They can also make changes to their pricing structure to encourage conservation.\n",
    "\n",
    "The different time horizons for load forecasting require different approaches. Short-term load forecasting is typically done using historical data and statistical models. Medium-term load forecasting can be done using a variety of methods, including econometric models, end-use models, and weather models. Long-term load forecasting is the most challenging, and it often requires the use of multiple models.\n",
    "\n",
    "Our study evaluated the performance of different load forecasting approaches using historical data from a large power company. We found that the end-use and econometric approach was the most accurate for medium-term load forecasting. For short-term load forecasting, the best approach depended on the specific application.\n",
    "\n",
    "Our findings can help power companies to improve their load forecasting accuracy and make better decisions about investment and planning. We recommend that power companies use a combination of approaches for load forecasting, and that they regularly evaluate the performance of their models.\n",
    "\n",
    "## Some short description\n",
    "\n",
    "### Dataset Link -->  [Datasets](https://www.kaggle.com/datasets/nicholasjhana/energy-consumption-generation-prices-and-weather)\n",
    "\n",
    "### Determining correlation with defferent column after merging\n",
    "<img src=\"./images/corr.jpg\" align=\"center\" width=\"60%\" />\n",
    "\n",
    "### Result with validation dataset\n",
    "<img src=\"./images/valid.jpg\" align=\"center\" width=\"60%\" />\n",
    "\n",
    "### Result with testing set dataset\n",
    "<img src=\"./images/test.jpg\" align=\"center\" width=\"60%\" />\n",
    "\n",
    "### Model in production\n",
    "<img src=\"./images/web.jpg\" align=\"center\" width=\"60%\" />\n",
    "\n",
    "### Website Link --> [Click Here](https://loadforecasting.vercel.app/)\n",
    "\n",
    "\n"
   ]
  }
 ],
 "metadata": {
  "kernelspec": {
   "display_name": "Python 3 (ipykernel)",
   "language": "python",
   "name": "python3"
  },
  "language_info": {
   "codemirror_mode": {
    "name": "ipython",
    "version": 3
   },
   "file_extension": ".py",
   "mimetype": "text/x-python",
   "name": "python",
   "nbconvert_exporter": "python",
   "pygments_lexer": "ipython3",
   "version": "3.9.7"
  }
 },
 "nbformat": 4,
 "nbformat_minor": 5
}
